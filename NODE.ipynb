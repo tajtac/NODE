{
 "cells": [
  {
   "cell_type": "code",
   "execution_count": 1,
   "metadata": {
    "id": "-K81jKMdefgh"
   },
   "outputs": [
    {
     "name": "stderr",
     "output_type": "stream",
     "text": [
      "/opt/anaconda3/lib/python3.8/site-packages/jax/lib/xla_bridge.py:130: UserWarning: No GPU/TPU found, falling back to CPU.\n",
      "  warnings.warn('No GPU/TPU found, falling back to CPU.')\n"
     ]
    }
   ],
   "source": [
    "import jax.numpy as np\n",
    "from matplotlib import pyplot as plt\n",
    "from jax import grad, vmap, jit, partial, random\n",
    "import numpy as onp\n",
    "from jax.experimental.ode import odeint\n",
    "from jax.experimental import optimizers\n",
    "from jax.scipy.optimize import minimize\n",
    "import jax\n",
    "key = random.PRNGKey(0)\n",
    "import pickle"
   ]
  },
  {
   "cell_type": "markdown",
   "metadata": {
    "id": "xT_E9Xlw4Af0"
   },
   "source": [
    "# Neural ODE constitutive model\n",
    "\n",
    "## Constitutive modeling\n",
    "\n",
    "When modeling a hyperelastic material from a mechanical perspective, we would like to define a strain energy function:\n",
    "$$\\Psi(I_1, I_2, ...,I_n)$$\n",
    "Where $I_i$ represent the invariants of the right Cauchy deformation tensor. One desired property of this function is convexity. This is important because it guarantees that the material always a non-negative stiffness. To satisfy convexity, we have 2 equivalent options:\n",
    "\n",
    "- the second derivative (stiffness) is always non-negative.\n",
    "- the first derivative monotonically increases with respect to the input.\n",
    "\n",
    "A very commonly used form of $\\Psi$ is based on an additive decomposition:\n",
    "$$\\Psi(I_1, I_2, ...,I_n) = \\sum_i^n \\Psi_i(I_i)$$\n",
    "In this particular case, to satisfy convexity, we just need $\\frac{\\delta \\Psi_i}{\\delta I_i}$ to be monotonically increasing.\n",
    "\n",
    "\n",
    "## Neural networks for constitutive modeling\n",
    "\n",
    "In this context, we would like to approximate $\\Psi$ with a neural network to avoid the need of choosing a particular form of the equation. And to satisfy the convexity requirement, we would like the approximate $\\frac{\\delta \\Psi_i}{\\delta I_i}$  with a neural network that monotonically increases. This can be satisfied with a neural ordinary differential equation [1], which has the form:\n",
    "\n",
    "$$\\boldsymbol{y} = \\boldsymbol{x} + \\int_0^T f(\\boldsymbol{h}(t),t,\\boldsymbol{\\theta})dt$$\n",
    "\n",
    "where $f(\\boldsymbol{h}(t),t,\\boldsymbol{\\theta})$ is a neural network that represents the right hand side of an ODE. This mapping from $\\boldsymbol{x}$ to $\\boldsymbol{y}$ must monotonically increase or decrease following this reasoning:\n",
    "- For the kind of neural network that we use for right hand side of the ODE, we can guarantee that there is a unique solution for every initial condition. This means, in our context, that for every input there is a unique output [1].\n",
    "- But, we can also integrate the system backwards in time, meaning that we can use the output as an initial condition to go to the input. And from what we just said, there must be a unique input for every output. This means we can invert the system $y = g(x),\\, x = g^{-1}(y)$. \n",
    "- If a function can be inverted, it must monotonically increase or decrease.\n",
    "- Another way to interpret this, is to consider trajectories (solutions of the ODE) never cross each other. \n",
    "\n",
    "The idea is to approximate $\\frac{\\delta \\Psi_i}{\\delta I_i}$ with a neural ODE. But in general, any invertible architecture should work. \n",
    "$$\\frac{\\delta \\Psi_i}{\\delta I_i} = I_i + \\int_0^T f(\\boldsymbol{h}(t),t,\\boldsymbol{\\theta})dt$$\n",
    "$$\\boldsymbol{h}(0) = I_i$$\n",
    "\n",
    "The hope is that data with steer the function to be monotonically increasing instead of decreasing.\n",
    "\n",
    "If we want to compute the tangent stiffness matrix, which involves $\\frac{\\delta^2 \\Psi_i}{\\delta I_i^2}$, this can done efficiently with the adjoint method. \n",
    "\n",
    "In the rare case that would like to evaluate the strain energy function, we would have to do it numerically.\n",
    "\n",
    "\n",
    "\n",
    "\n"
   ]
  },
  {
   "cell_type": "code",
   "execution_count": 2,
   "metadata": {
    "tags": []
   },
   "outputs": [],
   "source": [
    "load_existing_model = False\n",
    "model_name = 'P1C1_xys'\n",
    "dataset_name = 'P1C1_xys'\n",
    "#P1C1: n_offx = n_offy = 61, n_equi = n_strx = n_stry = 0\n",
    "#S111S1: n_offx = n_offy = n_equi = 183, n_strx = n_stry = 0\n",
    "#P12AC1: n_offx = 72, n_offy = 76, n_equi = 81, n_strx = 101, n_stry = 72\n",
    "#P12BC2: n_offx = 76, n_offy = 76, n_equi = 95, n_strx = 101, n_stry = 84\n",
    "#Unless you are working with multifidelity data, set all of the following to 0.\n",
    "n_offx = 0\n",
    "n_offy = 0\n",
    "n_equi = 0\n",
    "n_strx = 0\n",
    "n_stry = 0\n",
    "n_hf = n_offx + n_offy + n_equi + n_strx + n_stry\n",
    "\n",
    "with open('training_data/' + dataset_name + '.npy', 'rb') as f:\n",
    "    lamb, sigma_gt = np.load(f,allow_pickle=True)\n",
    "n_data = lamb.shape[0]\n",
    "weights = onp.ones([n_data,1])\n",
    "weights[:n_hf] = 10 #Weight of high fidelity loss\n",
    "#sigma_gt = np.concatenate((sigma_gt.transp,weights), axis=0)\n",
    "sigma_gt = np.hstack((sigma_gt,weights))"
   ]
  },
  {
   "cell_type": "code",
   "execution_count": 3,
   "metadata": {
    "id": "haICRU55fadE",
    "tags": []
   },
   "outputs": [],
   "source": [
    "# A generic function to compute the stress given the princial stretches\n",
    "# this will be used later for the NN\n",
    "@partial(jit, static_argnums=(4))\n",
    "def sigma(lamb1, lamb2, lamb3, p, NN, params):\n",
    "    W1_params, W2_params, W4v_params, W4w_params, J1_params, J2_params, J3_params, J4_params, J5_params, J6_params, J_weights, theta = params\n",
    "    w1, w2, w3, w4, w5, w6 = np.abs(J_weights)\n",
    "    v0 = np.array([ np.cos(theta), np.sin(theta), 0])\n",
    "    w0 = np.array([-np.sin(theta), np.cos(theta), 0])\n",
    "    F = np.array([[lamb1, 0, 0],\n",
    "                  [0, lamb2, 0],\n",
    "                  [0, 0, lamb3]])\n",
    "    v = np.dot(F, v0)\n",
    "    w = np.dot(F, w0)\n",
    "    b = np.dot(F, F.T)\n",
    "    I1 = np.trace(b)\n",
    "    b2 = np.einsum('ij,jk->ik', b, b)\n",
    "    I2 = 0.5*(np.trace(b)**2 - np.trace(b2)) # again assuming is diagonal\n",
    "    I4v = np.sum(b*np.outer(v0,v0)) \n",
    "    I4w = np.sum(b*np.outer(w0,w0)) \n",
    "    J1 = I1+I2-6\n",
    "    J2 = I1+I4v-4\n",
    "    J3 = I1+I4w-4\n",
    "    J4 = I2+I4v-4\n",
    "    J5 = I2+I4w-4\n",
    "    J6 = I4v+I4w-2\n",
    "    \n",
    "    dPsidI1  = NN(I1-3,  W1_params ) + w1*NN(J1, J1_params) + w2*NN(J2, J2_params) + w3*NN(J3, J3_params)\n",
    "    dPsidI2  = NN(I2-3,  W2_params ) + w1*NN(J1, J1_params) + w4*NN(J4, J4_params) + w5*NN(J5, J5_params)\n",
    "    dPsidI4v = NN(I4v-1, W4v_params) + w2*NN(J2, J2_params) + w4*NN(J4, J4_params) + w6*NN(J6, J6_params)\n",
    "    dPsidI4w = NN(I4w-1, W4w_params) + w3*NN(J3, J3_params) + w5*NN(J5, J5_params) + w6*NN(J6, J6_params)\n",
    "    \n",
    "    return -p*np.eye(3) + 2*dPsidI1*b + 2*dPsidI2*(I1*b - b**2) + 2*dPsidI4v*np.outer(v,v) + 2*dPsidI4w*np.outer(w,w)\n"
   ]
  },
  {
   "cell_type": "code",
   "execution_count": 4,
   "metadata": {
    "id": "V9TVy8W6KJnt",
    "tags": []
   },
   "outputs": [],
   "source": [
    "# a wrapper to compute biaxial stresses easily\n",
    "@partial(jit, static_argnums=(1))\n",
    "def sigma_biaxial(lamb, NN, params):\n",
    "    # incompressibility\n",
    "    lamb3 = 1/(lamb[0]*lamb[1])\n",
    "    # use \\sigma_33 = 0 to compute pressure\n",
    "    p = sigma(lamb[0], lamb[1], lamb3, 0, NN, params)[2,2]\n",
    "    # return \\sigma_11 and \\sigma_22\n",
    "    return sigma(lamb[0], lamb[1], lamb3, p, NN, params)[[0,1],[0,1]]\n",
    "# in jax we do everything for one value and then vectorize with vmap\n",
    "sigma_biaxial_vmap = vmap(sigma_biaxial, in_axes=(0,None, None), out_axes=0)"
   ]
  },
  {
   "cell_type": "code",
   "execution_count": 5,
   "metadata": {
    "id": "fze3LRWYMjou",
    "tags": []
   },
   "outputs": [],
   "source": [
    "# Fully connected neural network code\n",
    "def init_params(layers, key):\n",
    "    Ws = []\n",
    "    for i in range(len(layers) - 1):\n",
    "        std_glorot = np.sqrt(2/(layers[i] + layers[i + 1]))\n",
    "        key, subkey = random.split(key)\n",
    "        Ws.append(random.normal(subkey, (layers[i], layers[i + 1]))*std_glorot)\n",
    "    return Ws\n",
    "\n",
    "@jit\n",
    "def forward_pass(H, Ws):\n",
    "    N_layers = len(Ws)\n",
    "    for i in range(N_layers - 1):\n",
    "        H = np.matmul(H, Ws[i])\n",
    "        H = np.tanh(H)\n",
    "        Y = np.matmul(H, Ws[-1])\n",
    "    return Y\n",
    "\n",
    "@partial(jit, static_argnums=(0,))\n",
    "def step(loss, i, opt_state, X_batch, Y_batch):\n",
    "    params = get_params(opt_state)\n",
    "    g = grad(loss)(params, X_batch, Y_batch)\n",
    "    return opt_update(i, g, opt_state)\n",
    "\n",
    "def train(loss, X, Y, opt_state, key, nIter = 10000, batch_size = 10):\n",
    "    train_loss = []\n",
    "    val_loss = []\n",
    "    for it in range(nIter):\n",
    "        key, subkey = random.split(key)\n",
    "        idx_batch = random.choice(subkey, X.shape[0], shape = (batch_size,), replace = False)\n",
    "        opt_state = step(loss, it, opt_state, X[idx_batch], Y[idx_batch])         \n",
    "        if it % 1000 == 0:\n",
    "            params = get_params(opt_state)\n",
    "            train_loss_value = loss(params, X, Y)\n",
    "            train_loss.append(train_loss_value)\n",
    "            to_print = \"it %i, train loss = %e\" % (it, train_loss_value)\n",
    "            print(to_print)\n",
    "    return get_params(opt_state), train_loss, val_loss"
   ]
  },
  {
   "cell_type": "code",
   "execution_count": 6,
   "metadata": {
    "colab": {
     "base_uri": "https://localhost:8080/"
    },
    "id": "3bOIkF_yNqrf",
    "outputId": "a0d3f88b-cd08-4767-9e5b-5e0beb062e69"
   },
   "outputs": [
    {
     "name": "stdout",
     "output_type": "stream",
     "text": [
      "it 0, train loss = 4.701180e+02\n",
      "it 1000, train loss = 8.687310e-01\n",
      "it 2000, train loss = 1.320745e-01\n",
      "it 3000, train loss = 5.783656e-02\n",
      "it 4000, train loss = 4.556440e-02\n",
      "it 5000, train loss = 4.146522e-02\n",
      "it 6000, train loss = 3.653034e-02\n",
      "it 7000, train loss = 2.889043e-02\n",
      "it 8000, train loss = 1.684286e-02\n",
      "it 9000, train loss = 6.549572e-03\n",
      "it 10000, train loss = 3.370949e-03\n",
      "it 11000, train loss = 2.086676e-03\n",
      "it 12000, train loss = 1.488655e-03\n",
      "it 13000, train loss = 1.126249e-03\n",
      "it 14000, train loss = 1.022644e-03\n",
      "it 15000, train loss = 8.080617e-04\n",
      "it 16000, train loss = 7.014853e-04\n",
      "it 17000, train loss = 7.101270e-04\n",
      "it 18000, train loss = 6.792166e-04\n",
      "it 19000, train loss = 6.495541e-04\n",
      "it 20000, train loss = 6.215521e-04\n",
      "it 21000, train loss = 5.661563e-04\n",
      "it 22000, train loss = 5.544527e-04\n",
      "it 23000, train loss = 5.451446e-04\n",
      "it 24000, train loss = 5.333199e-04\n",
      "it 25000, train loss = 6.314408e-04\n",
      "it 26000, train loss = 5.271132e-04\n",
      "it 27000, train loss = 5.074079e-04\n",
      "it 28000, train loss = 5.142745e-04\n",
      "it 29000, train loss = 4.950186e-04\n"
     ]
    }
   ],
   "source": [
    "@jit\n",
    "def ODEforward_pass(y0, params):\n",
    "    f = lambda y, t: forward_pass(np.array([y]),params) # fake time argument for ODEint\n",
    "    return odeint(f, y0, np.array([0.0,1.0]))[-1] # integrate between 0 and 1 and return the results at 1\n",
    "\n",
    "@jit\n",
    "def loss(params, lamb, sigma_gt):\n",
    "    sigma_pred = sigma_biaxial_vmap(lamb, ODEforward_pass, params)\n",
    "    J_weights = params[10]\n",
    "    #sigma_gt[:,2] contains the weights of multifidelity data. i.e. sigma_gt[:,2] = 1 for low fidelity and 10 for high fidelity.\n",
    "    loss_MSE = np.average((sigma_pred[:,0] - sigma_gt[:,0])**2*sigma_gt[:,2])\n",
    "    loss_MSE+= np.average((sigma_pred[:,1] - sigma_gt[:,1])**2*sigma_gt[:,2])\n",
    "    loss_L1 = 1.0e-5*np.sum(np.abs(J_weights))\n",
    "    return  loss_MSE + loss_L1\n",
    "\n",
    "layers = [1, 5, 5, 1]\n",
    "\n",
    "W1_params = init_params(layers, key)\n",
    "W2_params = init_params(layers, key)\n",
    "W4v_params = init_params(layers, key)\n",
    "W4w_params = init_params(layers, key)\n",
    "J1_params = init_params(layers, key)\n",
    "J2_params = init_params(layers, key)\n",
    "J3_params = init_params(layers, key)\n",
    "J4_params = init_params(layers, key)\n",
    "J5_params = init_params(layers, key)\n",
    "J6_params = init_params(layers, key)\n",
    "J_weights = np.array([1.0, 1.0, 1.0, 1.0, 1.0, 1.0])\n",
    "theta = 1.0\n",
    "\n",
    "params = (W1_params, W2_params, W4v_params, W4w_params, J1_params, J2_params, J3_params, J4_params, J5_params, J6_params, J_weights, theta)\n",
    "\n",
    "opt_init, opt_update, get_params = optimizers.adam(1e-3)\n",
    "opt_state = opt_init(params)\n",
    "\n",
    "if load_existing_model == False:\n",
    "    if lamb.shape[0] > 100:\n",
    "        batch_size = 100\n",
    "    else:\n",
    "        batch_size = lamb.shape[0]\n",
    "            \n",
    "    params, train_loss, val_loss = train(loss,lamb, sigma_gt, opt_state, key, nIter = 30000, batch_size = batch_size)\n",
    "    with open('savednet/' + model_name + '.npy', 'wb') as f:\n",
    "        pickle.dump(params, f)\n",
    "else:\n",
    "    with open('savednet/' + model_name + '.npy', 'rb') as f:\n",
    "        params = pickle.load(f)\n"
   ]
  },
  {
   "cell_type": "code",
   "execution_count": 7,
   "metadata": {
    "colab": {
     "base_uri": "https://localhost:8080/"
    },
    "id": "aSuQF8R8SQy7",
    "outputId": "51616502-ded5-428d-be3e-8eb430e34421"
   },
   "outputs": [
    {
     "name": "stderr",
     "output_type": "stream",
     "text": [
      "<ipython-input-7-91ebc800722a>:13: RuntimeWarning: invalid value encountered in double_scalars\n",
      "  offx_error = onp.sum(error[:n_offx])/n_offx\n",
      "<ipython-input-7-91ebc800722a>:14: RuntimeWarning: invalid value encountered in double_scalars\n",
      "  offy_error = onp.sum(error[n_offx:n_offx+n_offy])/n_offy\n",
      "<ipython-input-7-91ebc800722a>:15: RuntimeWarning: invalid value encountered in double_scalars\n",
      "  equi_error = onp.sum(error[n_offx+n_offy:n_offx+n_offy+n_equi])/n_equi\n",
      "/opt/anaconda3/lib/python3.8/site-packages/numpy/core/fromnumeric.py:3334: RuntimeWarning: Mean of empty slice.\n",
      "  return _methods._mean(a, axis=axis, dtype=dtype,\n",
      "/opt/anaconda3/lib/python3.8/site-packages/numpy/core/_methods.py:161: RuntimeWarning: invalid value encountered in double_scalars\n",
      "  ret = ret.dtype.type(ret / rcount)\n"
     ]
    }
   ],
   "source": [
    "sigma_pred = sigma_biaxial_vmap(lamb, ODEforward_pass, params)\n",
    "\n",
    "error = onp.zeros(sigma_gt.shape[0])\n",
    "rel_error = onp.zeros(sigma_gt.shape[0])\n",
    "dummy = onp.zeros(sigma_gt.shape[0])\n",
    "for i in range(sigma_gt.shape[0]):\n",
    "    for j in range(2):\n",
    "        error[i]+= (sigma_gt[i,j] - sigma_pred[i,j])**2\n",
    "        dummy[i]+= sigma_gt[i,j]**2 \n",
    "    error[i] = onp.sqrt(error[i])\n",
    "    dummy[i] = onp.sqrt(dummy[i])\n",
    "    rel_error[i] = error[i]/dummy[i]\n",
    "offx_error = onp.sum(error[:n_offx])/n_offx\n",
    "offy_error = onp.sum(error[n_offx:n_offx+n_offy])/n_offy\n",
    "equi_error = onp.sum(error[n_offx+n_offy:n_offx+n_offy+n_equi])/n_equi\n",
    "synt_error = onp.sum(error[n_hf:])/(n_data-n_hf)\n",
    "\n",
    "offx_rel_error = rel_error[:n_offx]\n",
    "offx_rel_error = offx_rel_error[onp.isfinite(offx_rel_error)]\n",
    "offx_rel_error = onp.mean(offx_rel_error)\n",
    "offy_rel_error = rel_error[n_offx:n_offx+n_offy]\n",
    "offy_rel_error = offy_rel_error[onp.isfinite(offy_rel_error)]\n",
    "offy_rel_error = onp.mean(offy_rel_error)\n",
    "equi_rel_error = rel_error[n_offx+n_offy:n_offx+n_offy+n_equi]\n",
    "equi_rel_error = equi_rel_error[onp.isfinite(equi_rel_error)]\n",
    "equi_rel_error = onp.mean(equi_rel_error)\n",
    "synt_rel_error = rel_error[n_hf:]\n",
    "synt_rel_error = synt_rel_error[onp.isfinite(synt_rel_error)]\n",
    "synt_rel_error = onp.mean(synt_rel_error)\n",
    "\n",
    "if n_hf>0:\n",
    "    fig = plt.figure(figsize=(16,5))\n",
    "    fig.subplots_adjust(top=0.75)\n",
    "    ax1 = fig.add_subplot(131)\n",
    "    ax1.plot(lamb[:n_offx,1],   sigma_gt[:n_offx,0],'b.', label = '$\\sigma_{xx}$')\n",
    "    ax1.plot(lamb[:n_offx,1], sigma_pred[:n_offx,0],'b--')\n",
    "    ax1.plot(lamb[:n_offx,1],   sigma_gt[:n_offx,1],'b.', label = '$\\sigma_{yy}$')\n",
    "    ax1.plot(lamb[:n_offx,1], sigma_pred[:n_offx,1],'b--')\n",
    "    title = 'Off-x \\nAvg abs error: %f \\nAvg rel error: %f' %(offx_error, offx_rel_error)\n",
    "    ax1.set(xlabel = '$\\lambda_{yy}$', ylabel = '$\\sigma$', title=title)\n",
    "    ax1.legend()\n",
    "\n",
    "    ax2 = fig.add_subplot(132)\n",
    "    ax2.plot(lamb[n_offx:n_offx + n_offy,1],   sigma_gt[n_offx:n_offx + n_offy,0],'r.')\n",
    "    ax2.plot(lamb[n_offx:n_offx + n_offy,1], sigma_pred[n_offx:n_offx + n_offy,0],'r--')\n",
    "    ax2.plot(lamb[n_offx:n_offx + n_offy,1],   sigma_gt[n_offx:n_offx + n_offy,1],'r.')\n",
    "    ax2.plot(lamb[n_offx:n_offx + n_offy,1], sigma_pred[n_offx:n_offx + n_offy,1],'r--')\n",
    "    title = 'Off-y \\nAvg abs error: %f \\nAvg rel error: %f' %(offy_error, offy_rel_error)\n",
    "    ax2.set(xlabel = '$\\lambda_{yy}$', ylabel = '$\\sigma$', title=title)\n",
    "\n",
    "    ax3 = fig.add_subplot(133)\n",
    "    ax3.plot(lamb[n_offx + n_offy:n_hf  ,1],   sigma_gt[n_offx + n_offy:n_hf  ,0],'g.')\n",
    "    ax3.plot(lamb[n_offx + n_offy:n_hf  ,1], sigma_pred[n_offx + n_offy:n_hf  ,0],'g--')\n",
    "    ax3.plot(lamb[n_offx + n_offy:n_hf  ,1],   sigma_gt[n_offx + n_offy:n_hf  ,1],'g.')\n",
    "    ax3.plot(lamb[n_offx + n_offy:n_hf  ,1], sigma_pred[n_offx + n_offy:n_hf  ,1],'g--')\n",
    "    title = 'Off-y \\nAvg abs error: %f \\nAvg rel error: %f' %(equi_error, equi_rel_error)\n",
    "    ax3.set(xlabel = '$\\lambda_{yy}$', ylabel = '$\\sigma$', title=title)\n",
    "    plt.suptitle('Experimental Data')\n",
    "    plt.subplots_adjust(wspace=0.3)\n"
   ]
  },
  {
   "cell_type": "code",
   "execution_count": 8,
   "metadata": {},
   "outputs": [
    {
     "data": {
      "image/png": "[encoded data removed]",
      "text/plain": [
       "<Figure size 792x360 with 2 Axes>"
      ]
     },
     "metadata": {
      "needs_background": "light"
     },
     "output_type": "display_data"
    }
   ],
   "source": [
    "if n_data > n_hf: #ndata = n_hf would mean there is no synthetic data\n",
    "    res1 = 11\n",
    "    res2 = 4\n",
    "    res3 = 11\n",
    "    \n",
    "    fig = plt.figure()\n",
    "    fig.set_size_inches((11,5))\n",
    "    plt.subplot(121)\n",
    "    fig.subplots_adjust(top=0.8)\n",
    "    for i in range(res1):\n",
    "        i1 = n_hf + i*(res2+res3)\n",
    "        i2 = n_hf + (i+1)*(res2+res3)\n",
    "        plt.plot(lamb[i1:i2,1], sigma_pred[i1:i2,0])\n",
    "        plt.plot(lamb[i1:i2,1],   sigma_gt[i1:i2,0]  ,'.')\n",
    "    plt.xlabel('$\\lambda_y$', fontsize=18)\n",
    "    plt.ylabel('$\\sigma_x$', fontsize=18)\n",
    "    plt.legend(('Predicted', 'Ground Truth'))\n",
    "    \n",
    "    plt.subplot(122)\n",
    "    for i in range(res1):\n",
    "        i1 = n_hf + i*(res2+res3)\n",
    "        i2 = n_hf + (i+1)*(res2+res3)\n",
    "        plt.plot(lamb[i1:i2,1], sigma_pred[i1:i2,1])\n",
    "        plt.plot(lamb[i1:i2,1],   sigma_gt[i1:i2,1] ,'.')\n",
    "    plt.xlabel('$\\lambda_y$', fontsize=18)\n",
    "    plt.ylabel('$\\sigma_y$', fontsize=18)\n",
    "    plt.suptitle('Synthetic Data \\nAvg abs error: %f \\nAvg rel error: %f' %(synt_error, synt_rel_error*100))\n",
    "    plt.show()"
   ]
  },
  {
   "cell_type": "code",
   "execution_count": 9,
   "metadata": {},
   "outputs": [],
   "source": [
    "test = params[10]"
   ]
  },
  {
   "cell_type": "code",
   "execution_count": 10,
   "metadata": {},
   "outputs": [
    {
     "data": {
      "text/plain": [
       "DeviceArray([4.0928820e-01, 2.3307270e-04, 2.0978693e-04, 1.3188036e-04,\n",
       "             1.8576136e-01, 4.7425154e-01], dtype=float32)"
      ]
     },
     "execution_count": 10,
     "metadata": {},
     "output_type": "execute_result"
    }
   ],
   "source": [
    "test"
   ]
  },
  {
   "cell_type": "code",
   "execution_count": null,
   "metadata": {},
   "outputs": [],
   "source": []
  }
 ],
 "metadata": {
  "accelerator": "GPU",
  "colab": {
   "collapsed_sections": [],
   "name": "Constitutive_NeuralODE.ipynb",
   "provenance": []
  },
  "kernelspec": {
   "display_name": "Python 3",
   "language": "python",
   "name": "python3"
  },
  "language_info": {
   "codemirror_mode": {
    "name": "ipython",
    "version": 3
   },
   "file_extension": ".py",
   "mimetype": "text/x-python",
   "name": "python",
   "nbconvert_exporter": "python",
   "pygments_lexer": "ipython3",
   "version": "3.8.5"
  }
 },
 "nbformat": 4,
 "nbformat_minor": 4
}
